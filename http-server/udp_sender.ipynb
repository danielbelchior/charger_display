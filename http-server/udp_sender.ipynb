{
    "cells": [
        {
            "cell_type": "code",
            "execution_count": 10,
            "metadata": {},
            "outputs": [
                {
                    "name": "stdout",
                    "output_type": "stream",
                    "text": [
                        "Target IP: 127.0.0.1\n",
                        "Target port: 9999\n",
                        "Message: This is a test message from the Jupyter notebook.\n",
                        "\n",
                        "Message sent.\n"
                    ]
                }
            ],
            "source": [
                "import socket\n",
                "\n",
                "UDP_IP = \"127.0.0.1\"\n",
                "UDP_PORT = 9999\n",
                "MESSAGE = b\"This is a test message from the Jupyter notebook.\"\n",
                "\n",
                "print(f\"Target IP: {UDP_IP}\")\n",
                "print(f\"Target port: {UDP_PORT}\")\n",
                "print(f\"Message: {MESSAGE.decode()}\")\n",
                "\n",
                "sock = socket.socket(socket.AF_INET, socket.SOCK_DGRAM)\n",
                "sock.sendto(MESSAGE, (UDP_IP, UDP_PORT))\n",
                "\n",
                "print(\"\\nMessage sent.\")"
            ]
        },
        {
            "cell_type": "code",
            "execution_count": null,
            "metadata": {},
            "outputs": [],
            "source": []
        }
    ],
    "metadata": {
        "kernelspec": {
            "display_name": "Python 3 (ipykernel)",
            "language": "python",
            "name": "python3"
        },
        "language_info": {
            "codemirror_mode": {
                "name": "ipython",
                "version": 3
            },
            "file_extension": ".py",
            "mimetype": "text/x-python",
            "name": "python",
            "nbconvert_exporter": "python",
            "pygments_lexer": "ipython3",
            "version": "3.11.9"
        }
    },
    "nbformat": 4,
    "nbformat_minor": 4
}
